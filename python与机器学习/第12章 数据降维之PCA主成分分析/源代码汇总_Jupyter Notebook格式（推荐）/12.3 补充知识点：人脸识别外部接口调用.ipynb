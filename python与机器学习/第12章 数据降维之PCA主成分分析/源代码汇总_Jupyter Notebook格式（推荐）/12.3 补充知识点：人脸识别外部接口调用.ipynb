{
 "cells": [
  {
   "cell_type": "markdown",
   "metadata": {},
   "source": [
    "# 12.3 补充知识点：人脸识别外部接口调用"
   ]
  },
  {
   "cell_type": "code",
   "execution_count": 2,
   "metadata": {},
   "outputs": [
    {
     "name": "stdout",
     "output_type": "stream",
     "text": [
      "Looking in indexes: https://pypi.tuna.tsinghua.edu.cn/simple\n",
      "Collecting pip\n",
      "  Downloading https://pypi.tuna.tsinghua.edu.cn/packages/6a/df/a6ef77a6574781a668791419ffe366c8acd1c3cf4709d210cb53cd5ce1c2/pip-22.0.3-py3-none-any.whl (2.1MB)\n",
      "Installing collected packages: pip\n",
      "  Found existing installation: pip 19.0.3\n",
      "    Uninstalling pip-19.0.3:\n",
      "      Successfully uninstalled pip-19.0.3\n",
      "Successfully installed pip-22.0.3\n"
     ]
    }
   ],
   "source": [
    "!python -m pip install --upgrade pip"
   ]
  },
  {
   "cell_type": "code",
   "execution_count": 11,
   "metadata": {},
   "outputs": [
    {
     "name": "stdout",
     "output_type": "stream",
     "text": [
      "{'face_field': 'age,gender,beauty'}\n",
      "{'error_code': 0, 'error_msg': 'SUCCESS', 'log_id': 682695521, 'timestamp': 1644462682, 'cached': 0, 'result': {'face_num': 1, 'face_list': [{'face_token': '41588c6ea31bcc5bb12e50769293192a', 'location': {'left': 488.98, 'top': 889.46, 'width': 835, 'height': 788, 'rotation': -2}, 'face_probability': 1, 'angle': {'yaw': 0.86, 'pitch': 11.69, 'roll': -5.16}, 'age': 24, 'gender': {'type': 'male', 'probability': 1}, 'beauty': 73.36}]}}\n",
      "年龄预测为：24\n",
      "性别预测为：male\n",
      "颜值评分为：73.36\n"
     ]
    }
   ],
   "source": [
    "from aip import AipFace\n",
    "import base64\n",
    "\n",
    "# 下面3行内容为自己的APP_ID,API_KEY,SECRET_KEY\n",
    "APP_ID = '25590299'\n",
    "API_KEY = 'Fk81BflgGL2iaoIe8I7D765r'\n",
    "SECRET_KEY = '2YqQM4GR7wHiFP07ytmQ7MQt54GEP1lC'\n",
    "\n",
    "# 把上面输入的账号信息传入接口\n",
    "aipFace = AipFace(APP_ID, API_KEY, SECRET_KEY)\n",
    "\n",
    "# 下面一行内容为需要识别的人脸图片的地址，其他地方就不用改了\n",
    "filePath = r'钟伟宁.JPG'\n",
    "\n",
    "# 定义打开文件的函数\n",
    "def get_file_content(filePath):\n",
    "    with open(filePath, 'rb') as fp:\n",
    "        content = base64.b64encode(fp.read())\n",
    "        return content.decode('utf-8')\n",
    "\n",
    "imageType = \"BASE64\"\n",
    "\n",
    "# 选择最后要展示的内容，这里展示age（年龄）；gender（性别）；beauty（颜值）\n",
    "options = {}\n",
    "options[\"face_field\"] = \"age,gender,beauty\"\n",
    "print(options)\n",
    "\n",
    "# 调用接口aipFace的detect()函数进行人脸识别，打印结果\n",
    "result = aipFace.detect(get_file_content(filePath), imageType, options)\n",
    "print(result)\n",
    "\n",
    "# 打印具体信息，本质就是列表索引和字典的键值对应\n",
    "age = result['result']['face_list'][0]['age']\n",
    "print('年龄预测为：' + str(age))\n",
    "gender = result['result']['face_list'][0]['gender']['type']\n",
    "print('性别预测为：' + gender)\n",
    "beauty = result['result']['face_list'][0]['beauty']\n",
    "print('颜值评分为：' + str(beauty))"
   ]
  }
 ],
 "metadata": {
  "kernelspec": {
   "display_name": "Python 3",
   "language": "python",
   "name": "python3"
  },
  "language_info": {
   "codemirror_mode": {
    "name": "ipython",
    "version": 3
   },
   "file_extension": ".py",
   "mimetype": "text/x-python",
   "name": "python",
   "nbconvert_exporter": "python",
   "pygments_lexer": "ipython3",
   "version": "3.7.1"
  }
 },
 "nbformat": 4,
 "nbformat_minor": 2
}
